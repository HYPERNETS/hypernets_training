{
  "cells": [
    {
      "cell_type": "markdown",
      "metadata": {
        "colab_type": "text",
        "id": "view-in-github"
      },
      "source": [
        "<a href=\"https://colab.research.google.com/github/HYPERNETS/hypernets_training/blob/main/vhroda_training.ipynb\" target=\"_parent\"><img src=\"https://colab.research.google.com/assets/colab-badge.svg\" alt=\"Open In Colab\"/></a>"
      ]
    },
    {
      "attachments": {},
      "cell_type": "markdown",
      "metadata": {
        "id": "q--XLoo4Z325"
      },
      "source": [
        "**VHRODA training session: LANDHYPERNET and RADCALNET over Gobabeb**"
      ]
    },
    {
      "attachments": {},
      "cell_type": "markdown",
      "metadata": {
        "id": "4pxZ7fqqZ6jS"
      },
      "source": [
        "Within this training session, we will run through processing and comparing a matchup of S2 with HYPERNETS and RadCalNet (both networks providing data for the same overpass) over the Gobabeb site in Namibia. We will assume a starting point where the matchup has already been identified and the files have already been downloaded. The chosen example matchup is on 8th of June 2022\n",
        "As part of this notebook, we will read in the RadCalNet and HYPERNETS data, mask poor-quality data, and process the data to be comparible with S2 (e.g. spectral band integration). The bias will be calculated together with their uncertainties and plotted. These uncertainties will come from the product files themselves, and will be propagated throughout the processing chain using the CoMet toolkit. The CoMet toolkit will also be used to handle flags and propagate uncertainties for the HYPERNETS products. One example matchup at BOA will be shown, as well as one matchup at TOA. Further matchup can then be processed by the users themselves if time allows. "
      ]
    },
    {
      "attachments": {},
      "cell_type": "markdown",
      "metadata": {
        "id": "MzrTVRTqaNE3"
      },
      "source": [
        "We first install the obsarray package (flag handling and accessing uncertainties), the punpy package (uncertainty propagation) and the matheo package (for band integration)."
      ]
    },
    {
      "cell_type": "code",
      "execution_count": null,
      "metadata": {},
      "outputs": [],
      "source": [
        "!pip install obsarray>=1.0.0\n",
        "!pip install punpy>=1.0.0\n",
        "!pip install matheo"
      ]
    },
    {
      "attachments": {},
      "cell_type": "markdown",
      "metadata": {},
      "source": [
        "We also import all the relevant python packages we use in this training:"
      ]
    },
    {
      "cell_type": "code",
      "execution_count": null,
      "metadata": {},
      "outputs": [],
      "source": [
        "import xarray as xr\n",
        "import numpy as np\n",
        "from punpy import MeasurementFunction, MCPropagation\n",
        "from matheo.band_integration import band_integration\n",
        "from obsarray.templater.dataset_util import DatasetUtil\n",
        "import matplotlib.pyplot as plt\n",
        "import os"
      ]
    },
    {
      "attachments": {},
      "cell_type": "markdown",
      "metadata": {},
      "source": [
        "Next, we clone the comet_training repository, which contains all the datasets used in this training. Some instructions on downloading LANDHYPERNET and RadCalNet data will be provided at the end of this notebook.   "
      ]
    },
    {
      "cell_type": "code",
      "execution_count": null,
      "metadata": {},
      "outputs": [],
      "source": [
        "!git clone https://github.com/HYPERNETS/hypernets_training.git"
      ]
    },
    {
      "attachments": {},
      "cell_type": "markdown",
      "metadata": {},
      "source": [
        "**BOA matchup**"
      ]
    },
    {
      "attachments": {},
      "cell_type": "markdown",
      "metadata": {},
      "source": [
        "In this section, we will compare some BOA LAndsat-9 data to HYPERNETS and RadCalNet. The chosen Landsat-9 product is LC09_L2SP_179076_20220606_20230414_02_T1, which is a tile over Gobabeb from 2022-06-06. Rather than providing the full tile and a reader, we have pre-extracted the regoin of interest (here taken to be a 200 by 200m box centred on the Gobabeb HYPERNETS and GObabeb RadCalNet mast), and make this available as a netcdf file on the comet_training repository. This data can be read in as:"
      ]
    },
    {
      "cell_type": "code",
      "execution_count": null,
      "metadata": {},
      "outputs": [],
      "source": [
        "ds_refl_L9 = xr.load_dataset(\"hypernets_training/example_L9_20220606.nc\")     # ROI centred on HYPERNETS\n",
        "ds_refl_L9_rcn = xr.load_dataset(\"hypernets_training/example_L9_20220606_rcn.nc\") # ROI centred on RadCalNet"
      ]
    },
    {
      "attachments": {},
      "cell_type": "markdown",
      "metadata": {},
      "source": [
        "From these we can determine the reflectance in each band from the mean over the ROI, and its uncertainty (combination of noise and spatial variability) from the standard deviatino between pixels:"
      ]
    },
    {
      "cell_type": "code",
      "execution_count": null,
      "metadata": {},
      "outputs": [],
      "source": [
        "bands_L9 = [\"B1\", \"B2\", \"B3\", \"B4\", \"B5\", \"B6\"]\n",
        "wav_L9 = [442.98244284, 482.58889933, 561.33224557, 654.60554515, 864.5708545, 1609.09056245]\n",
        "\n",
        "refl_L9 = np.array([np.mean(ds_refl_L9[band].values) for band in bands_L9])\n",
        "u_refl_L9 = np.array([np.std(ds_refl_L9[band].values) for band in bands_L9])\n",
        "\n",
        "refl_L9_rcn = np.array([np.mean(ds_refl_L9_rcn[band].values) for band in bands_L9])\n",
        "u_refl_L9_rcn = np.array([np.std(ds_refl_L9_rcn[band].values) for band in bands_L9])"
      ]
    },
    {
      "cell_type": "markdown",
      "metadata": {},
      "source": []
    },
    {
      "cell_type": "code",
      "execution_count": null,
      "metadata": {},
      "outputs": [],
      "source": [
        "ds_HYP = xr.open_dataset(\"hypernets_training/HYPERNETS_L_GHNA_L2A_REF_20220606T0900_20231226T1435_v2.0.nc\")  # read digital effects table"
      ]
    },
    {
      "cell_type": "markdown",
      "metadata": {},
      "source": []
    },
    {
      "cell_type": "code",
      "execution_count": null,
      "metadata": {},
      "outputs": [],
      "source": [
        "\n",
        "bad_flags = [\n",
        "    \"pt_ref_invalid\",\n",
        "    \"half_of_scans_masked\",\n",
        "    \"not_enough_dark_scans\",\n",
        "    \"not_enough_rad_scans\",\n",
        "    \"not_enough_irr_scans\",\n",
        "    \"no_clear_sky_irradiance\",\n",
        "    \"variable_irradiance\",\n",
        "    \"half_of_uncertainties_too_big\",\n",
        "    \"discontinuity_VNIR_SWIR\",\n",
        "    \"single_irradiance_used\",\n",
        "]\n",
        "flagged = DatasetUtil.get_flags_mask_or(ds_HYP[\"quality_flag\"], bad_flags)\n",
        "id_series_valid = np.where(~flagged)[0]\n",
        "ds_HYP = ds_HYP.isel(series=id_series_valid)"
      ]
    },
    {
      "cell_type": "markdown",
      "metadata": {},
      "source": []
    },
    {
      "cell_type": "code",
      "execution_count": null,
      "metadata": {},
      "outputs": [],
      "source": [
        "vza = 0.7\n",
        "vaa = 38.1\n",
        "vzadiff = ds_HYP[\"viewing_zenith_angle\"].values - vza\n",
        "vaadiff = np.abs(ds_HYP[\"viewing_azimuth_angle\"].values - vaa % 360)\n",
        "angledif_series = vzadiff**2 + vaadiff**2\n",
        "id_series = np.where(angledif_series**2 == np.min(angledif_series**2))[0][0]\n",
        "ds_HYP = ds_HYP.isel(series=id_series)"
      ]
    },
    {
      "cell_type": "markdown",
      "metadata": {},
      "source": []
    },
    {
      "cell_type": "code",
      "execution_count": null,
      "metadata": {},
      "outputs": [],
      "source": [
        "wav_HYP_full = ds_HYP[\"wavelength\"].values\n",
        "refl_HYP_full = ds_HYP[\"reflectance\"].values\n",
        "u_refl_HYP_full = (\n",
        "    refl_HYP_full\n",
        "    * np.sqrt(\n",
        "        ds_HYP[\"u_rel_systematic_reflectance\"].values ** 2\n",
        "        + ds_HYP[\"u_rel_random_reflectance\"].values ** 2\n",
        "    )\n",
        "    / 100\n",
        ")  # add random and systematic uncertainties for later plotting"
      ]
    },
    {
      "cell_type": "markdown",
      "metadata": {},
      "source": []
    },
    {
      "cell_type": "code",
      "execution_count": null,
      "metadata": {},
      "outputs": [],
      "source": [
        "class BandIntegrateL9(MeasurementFunction):\n",
        "    # your measurement function\n",
        "    def meas_function(self, reflectance, wavelength):\n",
        "        \"\"\"\n",
        "        Function to perform S2A band integration on reflectance\n",
        "\n",
        "        :param reflectance: reflectance spectrum\n",
        "        :param wavelength: wavelengths\n",
        "        \"\"\"\n",
        "        refl_band, band_centres = band_integration.spectral_band_int_sensor(\n",
        "            d=reflectance,\n",
        "            wl=wavelength,\n",
        "            platform_name=\"Landsat-9\",\n",
        "            sensor_name=\"OLI\",\n",
        "            u_d=None,\n",
        "        )\n",
        "        return refl_band[:6]\n",
        "\n",
        "    def get_argument_names(self):\n",
        "        \"\"\"\n",
        "        Function that returns the argument names of the meas_func, as they appear in the digital effects table (used to find right variable in input data).\n",
        "\n",
        "        :return: List of argument names\n",
        "        \"\"\"\n",
        "        return [\"reflectance\", \"wavelength\"]\n",
        "\n",
        "    def get_measurand_name_and_unit(self):\n",
        "        \"\"\"\n",
        "        Function that returns the measurand name and unit of the meas_func. These will be used to store in the output dataset.\n",
        "\n",
        "        :return: tuple(measurand name, measurand unit)\n",
        "        \"\"\"\n",
        "        return \"band_reflectance\", \"\""
      ]
    },
    {
      "cell_type": "markdown",
      "metadata": {},
      "source": []
    },
    {
      "cell_type": "code",
      "execution_count": null,
      "metadata": {},
      "outputs": [],
      "source": [
        "prop = MCPropagation(50, parallel_cores=1)\n",
        "band_int_L8 = BandIntegrateL9(prop, use_err_corr_dict=True)\n",
        "ds_HYP_L8 = band_int_L8.propagate_ds_total(ds_HYP)"
      ]
    },
    {
      "cell_type": "markdown",
      "metadata": {},
      "source": []
    },
    {
      "cell_type": "code",
      "execution_count": null,
      "metadata": {},
      "outputs": [],
      "source": [
        "refl_HYP = ds_HYP_L8[\"band_reflectance\"].values\n",
        "u_refl_HYP = refl_HYP*ds_HYP_L8[\"u_tot_band_reflectance\"].values / 100\n"
      ]
    },
    {
      "cell_type": "markdown",
      "metadata": {},
      "source": []
    },
    {
      "cell_type": "code",
      "execution_count": null,
      "metadata": {},
      "outputs": [],
      "source": [
        "\n",
        "rcn_data = np.genfromtxt(\"hypernets_training/GONA01_2022_157_v00.09.input\", dtype=\"str\", delimiter=\"\\t\", skip_header=4)\n",
        "if np.all(rcn_data[:, -1] == \"\"):\n",
        "    rcn_data = rcn_data[:, :-1]\n",
        "wav_rcn = rcn_data[12:223, 0].astype(float)\n",
        "times_rcn = rcn_data[2, 1:]\n",
        "\n",
        "refl_rcn = rcn_data[12:223, 3].astype(float)\n",
        "u_refl_rcn = np.abs(rcn_data[229:440, 3].astype(float))"
      ]
    },
    {
      "cell_type": "markdown",
      "metadata": {},
      "source": []
    },
    {
      "cell_type": "code",
      "execution_count": null,
      "metadata": {},
      "outputs": [],
      "source": [
        "refl_rcn_band, band_centres, u_refl_rcn_band  = band_integration.spectral_band_int_sensor(\n",
        "            d=refl_rcn,\n",
        "            wl=wav_rcn,\n",
        "            platform_name=\"Landsat-8\",\n",
        "            sensor_name=\"OLI\",\n",
        "            u_d=u_refl_rcn,\n",
        "        )\n",
        "refl_rcn_band, u_refl_rcn_band = refl_rcn_band[:6], u_refl_rcn_band[:6]"
      ]
    },
    {
      "cell_type": "markdown",
      "metadata": {},
      "source": []
    },
    {
      "cell_type": "code",
      "execution_count": null,
      "metadata": {},
      "outputs": [],
      "source": [
        "bias = ((refl_L9 / refl_HYP) - 1) * 100\n",
        "u_bias = np.sqrt((u_refl_L9 / refl_L9) ** 2 + (u_refl_HYP / refl_HYP) ** 2) * 100\n",
        "\n",
        "bias_rcn = ((refl_L9_rcn / refl_rcn_band) - 1) * 100\n",
        "u_bias_rcn = (\n",
        "    np.sqrt((u_refl_L9_rcn / refl_L9_rcn) ** 2 + (u_refl_rcn_band / refl_rcn_band) ** 2)\n",
        "    * 100\n",
        ")"
      ]
    },
    {
      "cell_type": "markdown",
      "metadata": {},
      "source": []
    },
    {
      "cell_type": "code",
      "execution_count": null,
      "metadata": {},
      "outputs": [],
      "source": [
        "def plot(\n",
        "    sat: str,\n",
        "    date: str,\n",
        "    sat_wav: np.ndarray,\n",
        "    sat_refl: np.ndarray,\n",
        "    sat_unc: np.ndarray,\n",
        "    hyp_wav: np.ndarray,\n",
        "    hyp_refl: np.ndarray,\n",
        "    hyp_unc: np.ndarray,\n",
        "    rcn_wav: np.ndarray,\n",
        "    rcn_refl: np.ndarray,\n",
        "    rcn_unc: np.ndarray,\n",
        "    bias: np.ndarray,\n",
        "    bias_unc: np.ndarray,\n",
        "    wavs_band: np.ndarray,\n",
        "    reflectance_band: np.ndarray,\n",
        "    reflectance_band_unc: np.ndarray,\n",
        "    vza: float,\n",
        "    bias_rcn: np.ndarray,\n",
        "    bias_rcn_unc: np.ndarray,\n",
        "):\n",
        "    \"\"\"\n",
        "    Function to plot matchup results\n",
        "    \n",
        "    :param sat: satellite name\n",
        "    :param date: date of matchup\n",
        "    :param sat_wav: satellite wavelength\n",
        "    :param sat_refl: satellite reflectance \n",
        "    :param sat_unc: satellite reflectance uncertainty\n",
        "    :param hyp_wav: hypernets (full resolution) wavelength\n",
        "    :param hyp_refl: hypernets reflectance\n",
        "    :param hyp_unc: hypernets reflectance uncertainty\n",
        "    :param rcn_wav: RadCalNet wavelength\n",
        "    :param rcn_refl: RadCalNet reflectance\n",
        "    :param rcn_unc:  RadCalNet reflectance uncertainty\n",
        "    :param bias: hypernets bias (for satellite bands)\n",
        "    :param bias_unc: hypernets bias uncertainty (for satellite bands)\n",
        "    :param wavs_band: band-integrated hypernets wavelength\n",
        "    :param reflectance_band: band-integrated hypernets reflectance\n",
        "    :param reflectance_band_unc: band-integrated hypernets reflectance uncertainty\n",
        "    :param vza: satellite viewing zenith angle\n",
        "    :param bias_rcn: RadCalNet bias (for satellite bands)\n",
        "    :param bias_rcn_unc: RadCalNet bias uncertainty (for satellite bands)\n",
        "    :return: \n",
        "    \"\"\"\n",
        "    plt.figure(figsize=(20, 12))\n",
        "    plt.subplot(2, 1, 1)\n",
        "    plt.errorbar(\n",
        "        wavs_band,\n",
        "        reflectance_band,\n",
        "        yerr=reflectance_band_unc,\n",
        "        fmt=\"o\",\n",
        "        ls=\"none\",\n",
        "        ms=10,\n",
        "        color=\"m\",\n",
        "        label=\"HYPERNETS for satellite bands\",\n",
        "    )\n",
        "    plt.errorbar(\n",
        "        sat_wav, sat_refl, yerr=sat_unc, fmt=\"o\", ls=\"none\", ms=10, color=\"g\", label=sat\n",
        "    )\n",
        "    plt.fill_between(\n",
        "        hyp_wav, hyp_refl - hyp_unc, hyp_refl + hyp_unc, alpha=0.3, color=\"b\"\n",
        "    )\n",
        "    plt.errorbar(rcn_wav, rcn_refl, yerr=rcn_unc, label=\"RadCalNet\", color=\"orange\")\n",
        "    plt.plot(hyp_wav, hyp_refl, \"-b\", label=\"HYPERNETS full-resolution model\")\n",
        "    if sat == \"Landsat-8\" or sat == \"Landsat-9\":\n",
        "        plt.title(\n",
        "            \"Landsat-8/9 (vza=%.1f) vs HYPERNETS TOA Comparison at %s\" % (vza, date),\n",
        "            fontsize=20,\n",
        "        )\n",
        "    else:\n",
        "        plt.title(\n",
        "            \"%s (vza=%.1f) vs HYPERNETS Comparison at %s\" % (sat, vza, date),\n",
        "            fontsize=20,\n",
        "        )\n",
        "    plt.ylabel(\"Reflectance\", fontsize=20)\n",
        "    plt.xlim(380, 1700)\n",
        "    plt.ylim(0.0, 0.6)\n",
        "    plt.xticks(fontsize=20)\n",
        "    plt.yticks(fontsize=20)\n",
        "    plt.legend(loc=2, numpoints=1, scatterpoints=1, facecolor=\"white\")\n",
        "\n",
        "    plt.subplot(2, 1, 2)\n",
        "    plt.errorbar(\n",
        "        sat_wav,\n",
        "        bias,\n",
        "        yerr=bias_unc,\n",
        "        fmt=\"o\",\n",
        "        mfc=\"blue\",\n",
        "        ls=\"none\",\n",
        "        ms=15,\n",
        "        capsize=3,\n",
        "        label=\"HYPERNETS-%s bias\" % sat,\n",
        "    )\n",
        "    plt.errorbar(\n",
        "        sat_wav,\n",
        "        bias_rcn,\n",
        "        yerr=bias_rcn_unc,\n",
        "        fmt=\"o\",\n",
        "        mfc=\"orange\",\n",
        "        ls=\"none\",\n",
        "        ms=15,\n",
        "        capsize=3,\n",
        "        alpha=0.5,\n",
        "        label=\"RadCalNet-%s bias\" % sat,\n",
        "    )\n",
        "    plt.axhline(y=0, color=\"r\", linestyle=\"--\")\n",
        "    plt.ylabel(\"Relative Difference (%)\", fontsize=20)\n",
        "    plt.xlabel(\"Wavelength (nm)\", fontsize=20)\n",
        "    plt.xlim(380, 1700)\n",
        "    plt.ylim(-10, 10)\n",
        "    plt.xticks(fontsize=20)\n",
        "    plt.yticks(fontsize=20)\n",
        "    plt.legend()\n",
        "    # plt.legend(loc=2, numpoints=1, scatterpoints=1, facecolor='white')\n",
        "    plt.show()\n",
        "    plt.close()"
      ]
    },
    {
      "cell_type": "markdown",
      "metadata": {},
      "source": []
    },
    {
      "cell_type": "code",
      "execution_count": null,
      "metadata": {},
      "outputs": [],
      "source": [
        "plot(\"LANDSAT 9\", \"2022-06-06\", wav_L9, refl_L9, u_refl_L9, wav_HYP_full, refl_HYP_full, u_refl_HYP_full, wav_rcn,\n",
        "     refl_rcn, u_refl_rcn, bias, u_bias, wav_L9, refl_HYP, u_refl_HYP, vza, bias_rcn, u_bias_rcn)\n"
      ]
    },
    {
      "cell_type": "markdown",
      "metadata": {},
      "source": []
    },
    {
      "attachments": {},
      "cell_type": "markdown",
      "metadata": {},
      "source": [
        "**TOA matchup**"
      ]
    },
    {
      "attachments": {},
      "cell_type": "markdown",
      "metadata": {},
      "source": [
        "The TOA RadCalNet can be read in using the same reader as the BOA data. The TOA data is provided in the RadCalNet .output files that can be downloaded from the RadCalNet portal.  SEQ20220608T090043_vs_S2B_MSIL1C_20220608T084559_N0400_R107_T33KWP_20220608T113756.SAFE\n"
      ]
    },
    {
      "cell_type": "code",
      "execution_count": null,
      "metadata": {},
      "outputs": [],
      "source": [
        "\n",
        "ds_refl_S2 = xr.load_dataset(\"hypernets_training/example_S2_20220628.nc\")\n",
        "ds_refl_S2_rcn = xr.load_dataset(\"hypernets_training/example_S2_20220628_rcn.nc\")"
      ]
    },
    {
      "attachments": {},
      "cell_type": "markdown",
      "metadata": {},
      "source": [
        "HYPERNETS does not (currently) provide TOA reference data. Instead the user would need to propagate the HYPERNETS to TOA themselves using Radiative Transfer (RT) modelling. This was done in De Vis et al (2024a). We here provide the TOA reflectances manually. These were based on propagating the BOA reflectances from the previous section to TOA using LibRadtran. Atmospheric properties from the RadCalNet network were used, and uncertainties from both atmospheric properties as well as on the reflectance were also propagated through the RT forward model. For further details we refer to De Vis et al (2024a).\n"
      ]
    },
    {
      "cell_type": "code",
      "execution_count": null,
      "metadata": {},
      "outputs": [],
      "source": [
        "bands_S2=[\"B01\", \"B02\", \"B03\", \"B04\", \"B05\", \"B06\", \"B07\", \"B08\", \"B09\", \"B10\", \"B11\", \"B8A\"]\n",
        "wav_S2 = [442.69504835,  492.43657768,  559.84905824,  664.62175142,\n",
        "        704.11493669,  740.49182383,  782.75291928,  832.79041366,\n",
        "        945.05446558, 1373.46188735, 1613.65941706,  864.71079209]\n",
        "vza_S2=5.6\n",
        "\n",
        "refl_S2 = np.array([np.mean(ds_refl_S2[band].values) for band in bands_S2])\n",
        "u_refl_S2 = np.array([np.std(ds_refl_S2[band].values) for band in bands_S2])\n",
        "refl_S2_rcn = np.array([np.mean(ds_refl_S2_rcn[band].values) for band in bands_S2])\n",
        "u_refl_S2_rcn = np.array([np.std(ds_refl_S2_rcn[band].values) for band in bands_S2])"
      ]
    },
    {
      "attachments": {},
      "cell_type": "markdown",
      "metadata": {},
      "source": [
        "Before comparing them to S2, the RadCalNet and LANDHYPERNET data are band integrated with the S2 spectral response functions:"
      ]
    },
    {
      "cell_type": "code",
      "execution_count": null,
      "metadata": {},
      "outputs": [],
      "source": [
        "wav_TOA_HYP_full, refl_TOA_HYP_full, u_refl_TOA_HYP_full = np.load(\"hypernets_TOA_example_20220608_full.npy\")\n",
        "wav_TOA_HYP_band, refl_TOA_HYP_band, u_refl_TOA_HYP_band = np.load(\"hypernets_TOA_example_20220608_band.npy\")"
      ]
    },
    {
      "attachments": {},
      "cell_type": "markdown",
      "metadata": {},
      "source": []
    },
    {
      "cell_type": "code",
      "execution_count": null,
      "metadata": {},
      "outputs": [],
      "source": [
        "rcn_data = np.genfromtxt(\"hypernets_training/GONA01_2022_159_v04.09.output\", dtype=\"str\", delimiter=\"\\t\", skip_header=4)\n",
        "if np.all(rcn_data[:, -1] == \"\"):\n",
        "    rcn_data = rcn_data[:, :-1]\n",
        "wav_TOA_rcn = rcn_data[15:226, 0].astype(float)\n",
        "times_rcn = rcn_data[2, 1:]\n",
        "\n",
        "refl_TOA_rcn = rcn_data[15:226, 3].astype(float)\n",
        "u_refl_TOA_rcn = np.abs(rcn_data[232:443, 3].astype(float))"
      ]
    },
    {
      "cell_type": "markdown",
      "metadata": {},
      "source": []
    },
    {
      "cell_type": "code",
      "execution_count": null,
      "metadata": {},
      "outputs": [],
      "source": [
        "refl_TOA_rcn_band, band_centres, u_refl_TOA_rcn_band = band_integration.spectral_band_int_sensor(\n",
        "            d=refl_TOA_rcn,\n",
        "            wl=wav_TOA_rcn,\n",
        "            platform_name=\"Sentinel-2B\",\n",
        "            sensor_name=\"MSI\",\n",
        "            u_d=u_refl_TOA_rcn,\n",
        "        )\n",
        "refl_TOA_rcn_band, u_refl_TOA_rcn_band = np.delete(refl_TOA_rcn_band, 11), np.delete(u_refl_TOA_rcn_band,11)"
      ]
    },
    {
      "attachments": {},
      "cell_type": "markdown",
      "metadata": {},
      "source": [
        "The uncertainty variables in the HYPERNETS products can be accessed simply using xarray, and include error correlation information in the attributes:"
      ]
    },
    {
      "cell_type": "code",
      "execution_count": null,
      "metadata": {},
      "outputs": [],
      "source": [
        "bias_TOA = ((refl_S2 / refl_TOA_HYP_band) - 1) * 100\n",
        "u_bias_TOA = (\n",
        "    np.sqrt((u_refl_S2 / refl_S2) ** 2 + (u_refl_TOA_HYP_band / refl_TOA_HYP_band) ** 2)\n",
        "    * 100\n",
        ")\n",
        "\n",
        "bias_TOA_rcn = ((refl_S2_rcn / refl_TOA_rcn_band) - 1) * 100\n",
        "u_bias_TOA_rcn = (\n",
        "    np.sqrt(\n",
        "        (u_refl_S2_rcn / refl_S2_rcn) ** 2\n",
        "        + (u_refl_TOA_rcn_band / refl_TOA_rcn_band) ** 2\n",
        "    )\n",
        "    * 100\n",
        ")"
      ]
    },
    {
      "attachments": {},
      "cell_type": "markdown",
      "metadata": {},
      "source": [
        "In the output, we see that the err_corr_1_params attribute refers to the error correlation matrix variable. This one is also available in the dataset::"
      ]
    },
    {
      "cell_type": "code",
      "execution_count": null,
      "metadata": {},
      "outputs": [],
      "source": [
        "plot(\"Sentinel-2\", \"2022-06-08\", wav_S2, refl_S2, u_refl_S2, wav_TOA_HYP_full, refl_TOA_HYP_full, u_refl_TOA_HYP_full, wav_TOA_rcn,\n",
        "     refl_TOA_rcn, u_refl_TOA_rcn, bias_TOA, u_bias_TOA, wav_TOA_HYP_band, refl_TOA_HYP_band, u_refl_TOA_HYP_band, vza_S2, bias_TOA_rcn, u_bias_TOA"
      ]
    },
    {
      "attachments": {},
      "cell_type": "markdown",
      "metadata": {},
      "source": [
        "obsarray can be used to conveniently handle uncertainties in the HYPERNETS products.\n",
        "It can e.g. be used to inspect uncertainty variables for a particular variable, and calculate the total uncertainties:"
      ]
    },
    {
      "attachments": {},
      "cell_type": "markdown",
      "metadata": {},
      "source": [
        "**Produce further matchups yourself** "
      ]
    }
  ],
  "metadata": {
    "colab": {
      "authorship_tag": "ABX9TyM40nBwQDY7evd+aKCRtcm/",
      "include_colab_link": true,
      "name": "vhroda_training.ipynb",
      "provenance": []
    },
    "kernelspec": {
      "display_name": "Python 3",
      "name": "python3"
    },
    "language_info": {
      "name": "python",
      "version": "3.9.2-final"
    }
  },
  "nbformat": 4,
  "nbformat_minor": 0
}
